{
  "cells": [
    {
      "cell_type": "code",
      "execution_count": null,
      "metadata": {
        "colab": {
          "base_uri": "https://localhost:8080/",
          "height": 74
        },
        "id": "F358oYmUX5E4",
        "outputId": "e49553d6-3823-4d7f-b609-f7837aed23d9"
      },
      "outputs": [
        {
          "output_type": "display_data",
          "data": {
            "text/plain": [
              "<IPython.core.display.HTML object>"
            ],
            "text/html": [
              "\n",
              "     <input type=\"file\" id=\"files-268928b7-8380-4252-b335-adae96c14c2e\" name=\"files[]\" multiple disabled\n",
              "        style=\"border:none\" />\n",
              "     <output id=\"result-268928b7-8380-4252-b335-adae96c14c2e\">\n",
              "      Upload widget is only available when the cell has been executed in the\n",
              "      current browser session. Please rerun this cell to enable.\n",
              "      </output>\n",
              "      <script>// Copyright 2017 Google LLC\n",
              "//\n",
              "// Licensed under the Apache License, Version 2.0 (the \"License\");\n",
              "// you may not use this file except in compliance with the License.\n",
              "// You may obtain a copy of the License at\n",
              "//\n",
              "//      http://www.apache.org/licenses/LICENSE-2.0\n",
              "//\n",
              "// Unless required by applicable law or agreed to in writing, software\n",
              "// distributed under the License is distributed on an \"AS IS\" BASIS,\n",
              "// WITHOUT WARRANTIES OR CONDITIONS OF ANY KIND, either express or implied.\n",
              "// See the License for the specific language governing permissions and\n",
              "// limitations under the License.\n",
              "\n",
              "/**\n",
              " * @fileoverview Helpers for google.colab Python module.\n",
              " */\n",
              "(function(scope) {\n",
              "function span(text, styleAttributes = {}) {\n",
              "  const element = document.createElement('span');\n",
              "  element.textContent = text;\n",
              "  for (const key of Object.keys(styleAttributes)) {\n",
              "    element.style[key] = styleAttributes[key];\n",
              "  }\n",
              "  return element;\n",
              "}\n",
              "\n",
              "// Max number of bytes which will be uploaded at a time.\n",
              "const MAX_PAYLOAD_SIZE = 100 * 1024;\n",
              "\n",
              "function _uploadFiles(inputId, outputId) {\n",
              "  const steps = uploadFilesStep(inputId, outputId);\n",
              "  const outputElement = document.getElementById(outputId);\n",
              "  // Cache steps on the outputElement to make it available for the next call\n",
              "  // to uploadFilesContinue from Python.\n",
              "  outputElement.steps = steps;\n",
              "\n",
              "  return _uploadFilesContinue(outputId);\n",
              "}\n",
              "\n",
              "// This is roughly an async generator (not supported in the browser yet),\n",
              "// where there are multiple asynchronous steps and the Python side is going\n",
              "// to poll for completion of each step.\n",
              "// This uses a Promise to block the python side on completion of each step,\n",
              "// then passes the result of the previous step as the input to the next step.\n",
              "function _uploadFilesContinue(outputId) {\n",
              "  const outputElement = document.getElementById(outputId);\n",
              "  const steps = outputElement.steps;\n",
              "\n",
              "  const next = steps.next(outputElement.lastPromiseValue);\n",
              "  return Promise.resolve(next.value.promise).then((value) => {\n",
              "    // Cache the last promise value to make it available to the next\n",
              "    // step of the generator.\n",
              "    outputElement.lastPromiseValue = value;\n",
              "    return next.value.response;\n",
              "  });\n",
              "}\n",
              "\n",
              "/**\n",
              " * Generator function which is called between each async step of the upload\n",
              " * process.\n",
              " * @param {string} inputId Element ID of the input file picker element.\n",
              " * @param {string} outputId Element ID of the output display.\n",
              " * @return {!Iterable<!Object>} Iterable of next steps.\n",
              " */\n",
              "function* uploadFilesStep(inputId, outputId) {\n",
              "  const inputElement = document.getElementById(inputId);\n",
              "  inputElement.disabled = false;\n",
              "\n",
              "  const outputElement = document.getElementById(outputId);\n",
              "  outputElement.innerHTML = '';\n",
              "\n",
              "  const pickedPromise = new Promise((resolve) => {\n",
              "    inputElement.addEventListener('change', (e) => {\n",
              "      resolve(e.target.files);\n",
              "    });\n",
              "  });\n",
              "\n",
              "  const cancel = document.createElement('button');\n",
              "  inputElement.parentElement.appendChild(cancel);\n",
              "  cancel.textContent = 'Cancel upload';\n",
              "  const cancelPromise = new Promise((resolve) => {\n",
              "    cancel.onclick = () => {\n",
              "      resolve(null);\n",
              "    };\n",
              "  });\n",
              "\n",
              "  // Wait for the user to pick the files.\n",
              "  const files = yield {\n",
              "    promise: Promise.race([pickedPromise, cancelPromise]),\n",
              "    response: {\n",
              "      action: 'starting',\n",
              "    }\n",
              "  };\n",
              "\n",
              "  cancel.remove();\n",
              "\n",
              "  // Disable the input element since further picks are not allowed.\n",
              "  inputElement.disabled = true;\n",
              "\n",
              "  if (!files) {\n",
              "    return {\n",
              "      response: {\n",
              "        action: 'complete',\n",
              "      }\n",
              "    };\n",
              "  }\n",
              "\n",
              "  for (const file of files) {\n",
              "    const li = document.createElement('li');\n",
              "    li.append(span(file.name, {fontWeight: 'bold'}));\n",
              "    li.append(span(\n",
              "        `(${file.type || 'n/a'}) - ${file.size} bytes, ` +\n",
              "        `last modified: ${\n",
              "            file.lastModifiedDate ? file.lastModifiedDate.toLocaleDateString() :\n",
              "                                    'n/a'} - `));\n",
              "    const percent = span('0% done');\n",
              "    li.appendChild(percent);\n",
              "\n",
              "    outputElement.appendChild(li);\n",
              "\n",
              "    const fileDataPromise = new Promise((resolve) => {\n",
              "      const reader = new FileReader();\n",
              "      reader.onload = (e) => {\n",
              "        resolve(e.target.result);\n",
              "      };\n",
              "      reader.readAsArrayBuffer(file);\n",
              "    });\n",
              "    // Wait for the data to be ready.\n",
              "    let fileData = yield {\n",
              "      promise: fileDataPromise,\n",
              "      response: {\n",
              "        action: 'continue',\n",
              "      }\n",
              "    };\n",
              "\n",
              "    // Use a chunked sending to avoid message size limits. See b/62115660.\n",
              "    let position = 0;\n",
              "    do {\n",
              "      const length = Math.min(fileData.byteLength - position, MAX_PAYLOAD_SIZE);\n",
              "      const chunk = new Uint8Array(fileData, position, length);\n",
              "      position += length;\n",
              "\n",
              "      const base64 = btoa(String.fromCharCode.apply(null, chunk));\n",
              "      yield {\n",
              "        response: {\n",
              "          action: 'append',\n",
              "          file: file.name,\n",
              "          data: base64,\n",
              "        },\n",
              "      };\n",
              "\n",
              "      let percentDone = fileData.byteLength === 0 ?\n",
              "          100 :\n",
              "          Math.round((position / fileData.byteLength) * 100);\n",
              "      percent.textContent = `${percentDone}% done`;\n",
              "\n",
              "    } while (position < fileData.byteLength);\n",
              "  }\n",
              "\n",
              "  // All done.\n",
              "  yield {\n",
              "    response: {\n",
              "      action: 'complete',\n",
              "    }\n",
              "  };\n",
              "}\n",
              "\n",
              "scope.google = scope.google || {};\n",
              "scope.google.colab = scope.google.colab || {};\n",
              "scope.google.colab._files = {\n",
              "  _uploadFiles,\n",
              "  _uploadFilesContinue,\n",
              "};\n",
              "})(self);\n",
              "</script> "
            ]
          },
          "metadata": {}
        },
        {
          "output_type": "stream",
          "name": "stdout",
          "text": [
            "Saving HW3Data.mat to HW3Data.mat\n"
          ]
        }
      ],
      "source": [
        "from google.colab import files\n",
        "\n",
        "uploades = files.upload()"
      ]
    },
    {
      "cell_type": "code",
      "execution_count": null,
      "metadata": {
        "id": "DXkDrHWjYCXN"
      },
      "outputs": [],
      "source": [
        "import scipy\n",
        "\n",
        "import scipy.io\n",
        "\n",
        "# Load the MATLAB file\n",
        "\n",
        "mat_data = scipy.io.loadmat('HW3Data.mat')\n",
        "\n",
        "# Access variables in the MATLAB file\n",
        "# For example, if you have a variable 'data' in the MATLAB file:\n",
        "# data = mat_data['data']\n",
        "# Now 'data' in Python contains the data from the 'data' variable in the MATLAB file.\n",
        "\n",
        "Vocabulary = mat_data['Vocabulary']\n",
        "XTrain = mat_data['XTrain']\n",
        "XTest = mat_data['XTest']\n",
        "yTrain = mat_data['yTrain']\n",
        "yTest = mat_data['yTest']\n",
        "XTrainSmall = mat_data['XTrainSmall']\n",
        "yTrainSmall = mat_data['yTrainSmall']\n",
        "\n",
        "XTrain = XTrain.toarray()\n",
        "XTest = XTest.toarray()\n",
        "XTrainSmall = XTrainSmall.toarray()"
      ]
    },
    {
      "cell_type": "code",
      "execution_count": null,
      "metadata": {
        "id": "gVPClhuOlAeE"
      },
      "outputs": [],
      "source": [
        "import numpy as np\n",
        "\n",
        "def logProd(x):\n",
        "    # x is vector of logs of probabilities\n",
        "    # logprod returns the log of the products of the probabilites mentioned above\n",
        "    log_product = np.sum(x)\n",
        "    return log_product\n"
      ]
    },
    {
      "cell_type": "code",
      "execution_count": null,
      "metadata": {
        "id": "RR_nAVztWoYc"
      },
      "outputs": [],
      "source": [
        "import numpy as np\n",
        "\n",
        "def logProd(x):\n",
        "    # x is vector of logs of probabilities\n",
        "    # logprod returns the log of the products of the probabilites mentioned above\n",
        "    log_product = np.sum(x)\n",
        "    return log_product\n"
      ]
    },
    {
      "cell_type": "code",
      "execution_count": null,
      "metadata": {
        "id": "wbM-0-NSk5X5"
      },
      "outputs": [],
      "source": [
        "import numpy as np\n",
        "\n",
        "\n",
        "def NB_Classify(D, p, XTest):\n",
        "    m = XTest.shape[0]\n",
        "    n = XTest.shape[1]\n",
        "    yHat = np.zeros((m, 1), dtype=int)\n",
        "\n",
        "\n",
        "    # TODO: complete function and return the predictions\n",
        "    log_p = np.log(p)\n",
        "    log_1_minus_p = np.log(1 - p)\n",
        "\n",
        "    for i in range(m):\n",
        "        x = XTest[i, :]\n",
        "        log_prob_class_1 = log_p + logProd(x * np.log(D[0, :]) + (1 - x) * np.log(1 - D[0, :]))\n",
        "        log_prob_class_2 = log_1_minus_p + logProd(x * np.log(D[1, :]) + (1 - x) * np.log(1 - D[1, :]))\n",
        "\n",
        "        if log_prob_class_1 > log_prob_class_2:\n",
        "            yHat[i] = 1\n",
        "        else:\n",
        "            yHat[i] = 2\n",
        "\n",
        "    return yHat\n",
        "\n"
      ]
    },
    {
      "cell_type": "code",
      "execution_count": null,
      "metadata": {
        "id": "guZJZnPAkpHy"
      },
      "outputs": [],
      "source": [
        "import numpy as np\n",
        "\n",
        "\n",
        "def NB_Classify(D, p, XTest):\n",
        "    m = XTest.shape[0]\n",
        "    n = XTest.shape[1]\n",
        "    yHat = np.zeros((m, 1), dtype=int)\n",
        "\n",
        "\n",
        "    # TODO: complete function and return the predictions\n",
        "    log_p = np.log(p)\n",
        "    log_1_minus_p = np.log(1 - p)\n",
        "\n",
        "    for i in range(m):\n",
        "        x = XTest[i, :]\n",
        "        log_prob_class_1 = log_p + logProd(x * np.log(D[0, :]) + (1 - x) * np.log(1 - D[0, :]))\n",
        "        log_prob_class_2 = log_1_minus_p + logProd(x * np.log(D[1, :]) + (1 - x) * np.log(1 - D[1, :]))\n",
        "\n",
        "        if log_prob_class_1 > log_prob_class_2:\n",
        "            yHat[i] = 1\n",
        "        else:\n",
        "            yHat[i] = 2\n",
        "\n",
        "    return yHat\n",
        "\n"
      ]
    },
    {
      "cell_type": "code",
      "execution_count": null,
      "metadata": {
        "id": "8l1ONLwuZKh7"
      },
      "outputs": [],
      "source": [
        "D = NB_XGivenY(XTrain, yTrain)\n",
        "p = NB_YPrior(yTrain)\n"
      ]
    },
    {
      "cell_type": "code",
      "execution_count": null,
      "metadata": {
        "id": "lxLQjSiKClM8"
      },
      "outputs": [],
      "source": [
        "yHatTrain = NB_Classify(D, p, XTrain)\n",
        "yHatTest = NB_Classify(D, p, XTest)"
      ]
    },
    {
      "cell_type": "code",
      "execution_count": null,
      "metadata": {
        "id": "lQGSJ4b1zaLn"
      },
      "outputs": [],
      "source": [
        "\n",
        "trainError = ClassificationError(yHatTrain, yTrain)\n",
        "testError = ClassificationError(yHatTest, yTest)"
      ]
    },
    {
      "cell_type": "code",
      "execution_count": null,
      "metadata": {
        "id": "NaWt_BZnllyM",
        "colab": {
          "base_uri": "https://localhost:8080/"
        },
        "outputId": "ff42b515-4f64-48f8-e994-c08ab5c75a03"
      },
      "outputs": [
        {
          "output_type": "stream",
          "name": "stdout",
          "text": [
            "0.15172413793103448\n",
            "0.2689655172413793\n"
          ]
        }
      ],
      "source": [
        "print(trainError);\n",
        "print(testError);"
      ]
    },
    {
      "cell_type": "markdown",
      "source": [
        "The Train error is about normal for a naive bayes training error,  but as you can see theres a decent difference between the train and test error with the test error being higher perhaps showing some overfitting of the test data resulting in the error difference. Another reason could be that there are alot of features from the data set making it harder to correctly identify the data points\n"
      ],
      "metadata": {
        "id": "GhktSwuJPDz7"
      }
    },
    {
      "cell_type": "code",
      "execution_count": null,
      "metadata": {
        "id": "sYWueoT45tvQ",
        "colab": {
          "base_uri": "https://localhost:8080/"
        },
        "outputId": "f1b772e5-586a-45cf-a5b9-6b361c74916c"
      },
      "outputs": [
        {
          "output_type": "stream",
          "name": "stdout",
          "text": [
            "0.25862068965517243\n",
            "0.2896551724137931\n"
          ]
        }
      ],
      "source": [
        "D = NB_XGivenY(XTrainSmall, yTrainSmall)\n",
        "p = NB_YPrior(yTrainSmall)\n",
        "yHatTrainSmall = NB_Classify(D, p, XTrainSmall)\n",
        "yHatTest = NB_Classify(D, p, XTest)\n",
        "trainError = ClassificationError(yHatTrainSmall, yTrainSmall)\n",
        "testError = ClassificationError(yHatTest, yTest)\n",
        "print(trainError)\n",
        "print(testError)\n"
      ]
    },
    {
      "cell_type": "markdown",
      "source": [
        "The training error for the smaller dataset is higher than the training error of the bigger data set which should be normal since there is less data points to see making it harder for the smaller trainng data to accurately predict the data points. But as you can see the training and the testing error for the smaller data sets are more closer to each other than the bigger data sets training and testing errros percentage, showing that the smaller data set isnt overfitting as much as the bigger data set.\n"
      ],
      "metadata": {
        "id": "B0NK73zKQ7Z9"
      }
    },
    {
      "cell_type": "code",
      "source": [
        "def interpret_parameters(D, Vocabulary):\n",
        "    # Find the top 5 words for each class based on P(Xw = 1 | Y = y)\n",
        "    top_words_class_1 = np.argsort(D[0, :])[-5:][::-1]  # Top 5 words for class 1 (The Economist)\n",
        "    top_words_class_2 = np.argsort(D[1, :])[-5:][::-1]  # Top 5 words for class 2 (The Onion)\n",
        "\n",
        "    # Calculate the ratio P(Xw = 1 | Y = y) / P(Xw = 1 | Y != y)\n",
        "    ratio_class_1 = D[0, :] / D[1, :]\n",
        "    ratio_class_2 = D[1, :] / D[0, :]\n",
        "\n",
        "    # Find the top 5 words that maximize the ratio for each class\n",
        "    top_ratio_words_class_1 = np.argsort(ratio_class_1)[-5:][::-1]\n",
        "    top_ratio_words_class_2 = np.argsort(ratio_class_2)[-5:][::-1]\n",
        "\n",
        "    print(\"Top 5 words for class 1 (The Economist):\")\n",
        "    for idx in top_words_class_1:\n",
        "        print(Vocabulary[idx][0])\n",
        "\n",
        "    print(\"\\nTop 5 words for class 2 (The Onion):\")\n",
        "    for idx in top_words_class_2:\n",
        "        print(Vocabulary[idx][0])\n",
        "\n",
        "    print(\"\\nTop 5 words maximizing ratio for class 1 (The Economist):\")\n",
        "    for idx in top_ratio_words_class_1:\n",
        "        print(Vocabulary[idx][0])\n",
        "\n",
        "    print(\"\\nTop 5 words maximizing ratio for class 2 (The Onion):\")\n",
        "    for idx in top_ratio_words_class_2:\n",
        "        print(Vocabulary[idx][0])"
      ],
      "metadata": {
        "id": "TtIeBI8SSE4Y"
      },
      "execution_count": null,
      "outputs": []
    },
    {
      "cell_type": "code",
      "source": [
        "interpret_parameters(D, Vocabulary)\n"
      ],
      "metadata": {
        "colab": {
          "base_uri": "https://localhost:8080/"
        },
        "id": "dFzBcmIiSXxe",
        "outputId": "09b95e42-e00b-494b-fcfa-8b567b2c4a30"
      },
      "execution_count": null,
      "outputs": [
        {
          "output_type": "stream",
          "name": "stdout",
          "text": [
            "Top 5 words for class 1 (The Economist):\n",
            "['to']\n",
            "['the']\n",
            "['in']\n",
            "['of']\n",
            "['and']\n",
            "\n",
            "Top 5 words for class 2 (The Onion):\n",
            "['said']\n",
            "['in']\n",
            "['a']\n",
            "['for']\n",
            "['and']\n",
            "\n",
            "Top 5 words maximizing ratio for class 1 (The Economist):\n",
            "['reform']\n",
            "['reckon']\n",
            "['organis']\n",
            "['foreign']\n",
            "['corrupt']\n",
            "\n",
            "Top 5 words maximizing ratio for class 2 (The Onion):\n",
            "['4enlarg']\n",
            "['5enlarg']\n",
            "['monday']\n",
            "['percent']\n",
            "['tuesday']\n"
          ]
        }
      ]
    },
    {
      "cell_type": "markdown",
      "source": [
        "The lists of words that decribes the two classes better are the maximizing ratio lists. This class gets the important words of the class rather than the repetitive words that are in the normal classes ie 'said' ,'in','of', etc. The maximizing ration shows what the class theme is for example in the economist class you can see 'foreign',and 'corrupt' which can definitely help you understand what the class is talking about and describes it better."
      ],
      "metadata": {
        "id": "7huzIzN7RShe"
      }
    }
  ],
  "metadata": {
    "colab": {
      "provenance": []
    },
    "kernelspec": {
      "display_name": "Python 3",
      "language": "python",
      "name": "python3"
    },
    "language_info": {
      "codemirror_mode": {
        "name": "ipython",
        "version": 3
      },
      "file_extension": ".py",
      "mimetype": "text/x-python",
      "name": "python",
      "nbconvert_exporter": "python",
      "pygments_lexer": "ipython3",
      "version": "3.10.8"
    },
    "vscode": {
      "interpreter": {
        "hash": "aee8b7b246df8f9039afb4144a1f6fd8d2ca17a180786b69acc140d282b71a49"
      }
    }
  },
  "nbformat": 4,
  "nbformat_minor": 0
}